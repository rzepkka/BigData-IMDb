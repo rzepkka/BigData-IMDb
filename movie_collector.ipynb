{
 "cells": [
  {
   "cell_type": "code",
   "execution_count": 22,
   "outputs": [],
   "source": [
    "import requests\n",
    "import requests_cache\n",
    "import re"
   ],
   "metadata": {
    "collapsed": false,
    "pycharm": {
     "name": "#%%\n"
    }
   }
  },
  {
   "cell_type": "code",
   "execution_count": 47,
   "metadata": {
    "collapsed": true
   },
   "outputs": [],
   "source": [
    "imdb_id = \"tt0013258\"\n",
    "\n",
    "__api_url = 'http://www.omdbapi.com'\n",
    "__api_key = '6e0762d4'\n",
    "__headers = {'user-agent': 'cinema/0.0.11'}\n",
    "requests_cache.install_cache('omdb_cache', expire_after=300, backend='memory')"
   ]
  },
  {
   "cell_type": "code",
   "execution_count": 48,
   "outputs": [],
   "source": [
    "\n",
    "payload = {'apikey': __api_key,\n",
    "           'plot': 'short',\n",
    "           'r': 'json',\n",
    "           'type': 'movie',\n",
    "           'v': '1',\n",
    "           'i': imdb_id}\n",
    "\n",
    "result = requests.get(__api_url, headers=__headers, params=payload)\n",
    "\n",
    "if result.status_code != requests.codes.ok:\n",
    "    print(result)\n",
    "    raise ConnectionError\n",
    "\n",
    "data = result.json()\n",
    "\n",
    "d = {'title'  : data['Title'],\n",
    "     'year' : data['Year'],\n",
    "     'awards' : (data['Awards'] != 'N/A'),\n",
    "     'genre'  : data['Genre']}\n",
    "d.update({i['Source']: int(re.sub(r'[^\\w\\s]','',i['Value'])[0:2]) for i in data[\"Ratings\"]})"
   ],
   "metadata": {
    "collapsed": false,
    "pycharm": {
     "name": "#%%\n"
    }
   }
  },
  {
   "cell_type": "markdown",
   "source": [],
   "metadata": {
    "collapsed": false
   }
  }
 ],
 "metadata": {
  "kernelspec": {
   "display_name": "Python 3",
   "language": "python",
   "name": "python3"
  },
  "language_info": {
   "codemirror_mode": {
    "name": "ipython",
    "version": 2
   },
   "file_extension": ".py",
   "mimetype": "text/x-python",
   "name": "python",
   "nbconvert_exporter": "python",
   "pygments_lexer": "ipython2",
   "version": "2.7.6"
  }
 },
 "nbformat": 4,
 "nbformat_minor": 0
}