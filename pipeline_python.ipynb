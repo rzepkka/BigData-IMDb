{
 "cells": [
  {
   "cell_type": "code",
   "execution_count": 1,
   "outputs": [
    {
     "name": "stdout",
     "output_type": "stream",
     "text": [
      "Checking whether there is an H2O instance running at http://localhost:54321 ..... not found.\n",
      "Attempting to start a local H2O server...\n",
      "  Java Version: java version \"1.8.0_321\"; Java(TM) SE Runtime Environment (build 1.8.0_321-b07); Java HotSpot(TM) 64-Bit Server VM (build 25.321-b07, mixed mode)\n",
      "  Starting server from /Users/e/opt/anaconda3/lib/python3.9/site-packages/h2o/backend/bin/h2o.jar\n",
      "  Ice root: /var/folders/sx/rf0mky_55k347433qghmqlmm0000gn/T/tmpso4ig6ua\n",
      "  JVM stdout: /var/folders/sx/rf0mky_55k347433qghmqlmm0000gn/T/tmpso4ig6ua/h2o_e_started_from_python.out\n",
      "  JVM stderr: /var/folders/sx/rf0mky_55k347433qghmqlmm0000gn/T/tmpso4ig6ua/h2o_e_started_from_python.err\n",
      "  Server is running at http://127.0.0.1:54321\n",
      "Connecting to H2O server at http://127.0.0.1:54321 ... successful.\n"
     ]
    },
    {
     "data": {
      "text/plain": "--------------------------  -----------------------------\nH2O_cluster_uptime:         02 secs\nH2O_cluster_timezone:       Europe/Amsterdam\nH2O_data_parsing_timezone:  UTC\nH2O_cluster_version:        3.36.0.3\nH2O_cluster_version_age:    1 month and 8 days\nH2O_cluster_name:           H2O_from_python_e_jaaxgm\nH2O_cluster_total_nodes:    1\nH2O_cluster_free_memory:    8.89 Gb\nH2O_cluster_total_cores:    8\nH2O_cluster_allowed_cores:  8\nH2O_cluster_status:         locked, healthy\nH2O_connection_url:         http://127.0.0.1:54321\nH2O_connection_proxy:       {\"http\": null, \"https\": null}\nH2O_internal_security:      False\nPython_version:             3.9.7 final\n--------------------------  -----------------------------",
      "text/html": "<div style=\"overflow:auto\"><table style=\"width:50%\"><tr><td>H2O_cluster_uptime:</td>\n<td>02 secs</td></tr>\n<tr><td>H2O_cluster_timezone:</td>\n<td>Europe/Amsterdam</td></tr>\n<tr><td>H2O_data_parsing_timezone:</td>\n<td>UTC</td></tr>\n<tr><td>H2O_cluster_version:</td>\n<td>3.36.0.3</td></tr>\n<tr><td>H2O_cluster_version_age:</td>\n<td>1 month and 8 days </td></tr>\n<tr><td>H2O_cluster_name:</td>\n<td>H2O_from_python_e_jaaxgm</td></tr>\n<tr><td>H2O_cluster_total_nodes:</td>\n<td>1</td></tr>\n<tr><td>H2O_cluster_free_memory:</td>\n<td>8.89 Gb</td></tr>\n<tr><td>H2O_cluster_total_cores:</td>\n<td>8</td></tr>\n<tr><td>H2O_cluster_allowed_cores:</td>\n<td>8</td></tr>\n<tr><td>H2O_cluster_status:</td>\n<td>locked, healthy</td></tr>\n<tr><td>H2O_connection_url:</td>\n<td>http://127.0.0.1:54321</td></tr>\n<tr><td>H2O_connection_proxy:</td>\n<td>{\"http\": null, \"https\": null}</td></tr>\n<tr><td>H2O_internal_security:</td>\n<td>False</td></tr>\n<tr><td>Python_version:</td>\n<td>3.9.7 final</td></tr></table></div>"
     },
     "metadata": {},
     "output_type": "display_data"
    }
   ],
   "source": [
    "import importlib\n",
    "\n",
    "import numpy as np\n",
    "\n",
    "from pipeline import \\\n",
    "    data_collect as collect, \\\n",
    "    data_clean as clean, \\\n",
    "    data_enhance as enhance, \\\n",
    "    model_training as model\n",
    "\n",
    "import pandas as pd"
   ],
   "metadata": {
    "collapsed": false,
    "pycharm": {
     "name": "#%%\n"
    }
   }
  },
  {
   "cell_type": "code",
   "execution_count": 29,
   "outputs": [
    {
     "name": "stdout",
     "output_type": "stream",
     "text": [
      "Checking whether there is an H2O instance running at http://localhost:54321 . connected.\n"
     ]
    },
    {
     "data": {
      "text/plain": "--------------------------  -----------------------------\nH2O_cluster_uptime:         22 mins 37 secs\nH2O_cluster_timezone:       Europe/Amsterdam\nH2O_data_parsing_timezone:  UTC\nH2O_cluster_version:        3.36.0.3\nH2O_cluster_version_age:    1 month and 8 days\nH2O_cluster_name:           H2O_from_python_e_jaaxgm\nH2O_cluster_total_nodes:    1\nH2O_cluster_free_memory:    8.56 Gb\nH2O_cluster_total_cores:    8\nH2O_cluster_allowed_cores:  8\nH2O_cluster_status:         locked, healthy\nH2O_connection_url:         http://localhost:54321\nH2O_connection_proxy:       {\"http\": null, \"https\": null}\nH2O_internal_security:      False\nPython_version:             3.9.7 final\n--------------------------  -----------------------------",
      "text/html": "<div style=\"overflow:auto\"><table style=\"width:50%\"><tr><td>H2O_cluster_uptime:</td>\n<td>22 mins 37 secs</td></tr>\n<tr><td>H2O_cluster_timezone:</td>\n<td>Europe/Amsterdam</td></tr>\n<tr><td>H2O_data_parsing_timezone:</td>\n<td>UTC</td></tr>\n<tr><td>H2O_cluster_version:</td>\n<td>3.36.0.3</td></tr>\n<tr><td>H2O_cluster_version_age:</td>\n<td>1 month and 8 days </td></tr>\n<tr><td>H2O_cluster_name:</td>\n<td>H2O_from_python_e_jaaxgm</td></tr>\n<tr><td>H2O_cluster_total_nodes:</td>\n<td>1</td></tr>\n<tr><td>H2O_cluster_free_memory:</td>\n<td>8.56 Gb</td></tr>\n<tr><td>H2O_cluster_total_cores:</td>\n<td>8</td></tr>\n<tr><td>H2O_cluster_allowed_cores:</td>\n<td>8</td></tr>\n<tr><td>H2O_cluster_status:</td>\n<td>locked, healthy</td></tr>\n<tr><td>H2O_connection_url:</td>\n<td>http://localhost:54321</td></tr>\n<tr><td>H2O_connection_proxy:</td>\n<td>{\"http\": null, \"https\": null}</td></tr>\n<tr><td>H2O_internal_security:</td>\n<td>False</td></tr>\n<tr><td>Python_version:</td>\n<td>3.9.7 final</td></tr></table></div>"
     },
     "metadata": {},
     "output_type": "display_data"
    },
    {
     "data": {
      "text/plain": "<module 'pipeline.model_training' from '/Users/e/uva/BD/project/IMDB---Big-Data-2022/pipeline/model_training.py'>"
     },
     "execution_count": 29,
     "metadata": {},
     "output_type": "execute_result"
    }
   ],
   "source": [
    "importlib.reload(collect)\n",
    "importlib.reload(clean)\n",
    "importlib.reload(enhance)\n",
    "importlib.reload(model)"
   ],
   "metadata": {
    "collapsed": false,
    "pycharm": {
     "name": "#%%\n"
    }
   }
  },
  {
   "cell_type": "markdown",
   "source": [
    "## Variables"
   ],
   "metadata": {
    "collapsed": false
   }
  },
  {
   "cell_type": "code",
   "execution_count": 2,
   "outputs": [],
   "source": [
    "# received data location\n",
    "training_folder         = './source_imdb/'\n",
    "validation_path         = 'source_imdb/validation_hidden.csv'\n",
    "test_path               = 'source_imdb/test_hidden.csv'\n",
    "writer_path             = 'source_imdb/writing.json'\n",
    "director_path           = 'source_imdb/directing.json'\n",
    "\n",
    "# outputs\n",
    "training_agr_path       = 'output/train_aggregated.csv'\n",
    "writer_director_path    = 'output/writers_directors.json'\n",
    "omdb_path               = 'output/omdb.json'"
   ],
   "metadata": {
    "collapsed": false,
    "pycharm": {
     "name": "#%%\n"
    }
   }
  },
  {
   "cell_type": "markdown",
   "source": [
    "---\n",
    "# Gathering data"
   ],
   "metadata": {
    "collapsed": false
   }
  },
  {
   "cell_type": "code",
   "execution_count": 3,
   "outputs": [],
   "source": [
    "# construct information stores\n",
    "collect.merge_training_files(training_folder, training_agr_path, verbose = False)\n",
    "collect.construct_writers_directors(writer_path, director_path, writer_director_path)"
   ],
   "metadata": {
    "collapsed": false,
    "pycharm": {
     "name": "#%%\n"
    }
   }
  },
  {
   "cell_type": "code",
   "execution_count": 4,
   "outputs": [],
   "source": [
    "#pyspark\n",
    "train_df = pd.read_csv(training_agr_path,   index_col=0)\n",
    "valid_df = pd.read_csv(validation_path,     index_col=0)\n",
    "test_df  = pd.read_csv(test_path,           index_col=0)"
   ],
   "metadata": {
    "collapsed": false,
    "pycharm": {
     "name": "#%%\n"
    }
   }
  },
  {
   "cell_type": "code",
   "execution_count": 5,
   "outputs": [
    {
     "name": "stdout",
     "output_type": "stream",
     "text": [
      "total tconsts:  10000\n",
      "current missing tconsts:  0\n",
      "finished\n"
     ]
    }
   ],
   "source": [
    "tconst_list = list(pd.concat([train_df.tconst,test_df.tconst,valid_df.tconst]))\n",
    "collect.automate_omdb_retrieval(tconst_list, omdb_path)"
   ],
   "metadata": {
    "collapsed": false,
    "pycharm": {
     "name": "#%%\n"
    }
   }
  },
  {
   "cell_type": "markdown",
   "source": [],
   "metadata": {
    "collapsed": false
   }
  },
  {
   "cell_type": "markdown",
   "source": [
    "---\n",
    "# Brining the processing together"
   ],
   "metadata": {
    "collapsed": false
   }
  },
  {
   "cell_type": "code",
   "execution_count": 6,
   "outputs": [
    {
     "name": "stdout",
     "output_type": "stream",
     "text": [
      "(7959, 8) (955, 7) (1086, 7)\n"
     ]
    }
   ],
   "source": [
    "print(train_df.shape, valid_df.shape, test_df.shape)"
   ],
   "metadata": {
    "collapsed": false,
    "pycharm": {
     "name": "#%%\n"
    }
   }
  },
  {
   "cell_type": "code",
   "execution_count": 7,
   "outputs": [],
   "source": [
    "def pipe(dataframe):\n",
    "    \"\"\"\n",
    "    all processing steps to go from dirty data to cleaned+enhanced data\n",
    "    :param dataframe: dirty dataframe\n",
    "    :return: cleaned+enhanced dataframe\n",
    "    \"\"\"\n",
    "    enhance.match_writer_director(dataframe, writer_director_path)\n",
    "    dataframe = enhance.match_omdb(dataframe, omdb_path)  # concat used here is not inplace :(\n",
    "    clean.fix_dtypes(dataframe)\n",
    "    clean.col_a_if_a_else_b(dataframe, \"startYear\", \"endYear\", \"year\", \"num\")\n",
    "    clean.col_a_if_a_else_b(dataframe, \"primaryTitle\", \"originalTitle\",\"title\", \"text\" )\n",
    "    clean.clean_text_df(dataframe, [\"title\"])\n",
    "    enhance.years_until_today(dataframe, \"year\")\n",
    "    clean.fill_missing_numerics(dataframe, [\"numVotes\", \"runtimeMinutes\"])\n",
    "\n",
    "    return dataframe"
   ],
   "metadata": {
    "collapsed": false,
    "pycharm": {
     "name": "#%%\n"
    }
   }
  },
  {
   "cell_type": "code",
   "execution_count": 8,
   "outputs": [],
   "source": [
    "# massage the three sets\n",
    "train_df = pipe(train_df)\n",
    "valid_df = pipe(valid_df)\n",
    "test_df = pipe(test_df)"
   ],
   "metadata": {
    "collapsed": false,
    "pycharm": {
     "name": "#%%\n"
    }
   }
  },
  {
   "cell_type": "markdown",
   "source": [
    "---\n",
    "# Model training"
   ],
   "metadata": {
    "collapsed": false
   }
  },
  {
   "cell_type": "code",
   "execution_count": 9,
   "outputs": [
    {
     "name": "stdout",
     "output_type": "stream",
     "text": [
      "(7959, 38) (955, 37) (1086, 37)\n"
     ]
    }
   ],
   "source": [
    "print(train_df.shape, valid_df.shape, test_df.shape)"
   ],
   "metadata": {
    "collapsed": false,
    "pycharm": {
     "name": "#%%\n"
    }
   }
  },
  {
   "cell_type": "code",
   "execution_count": 27,
   "outputs": [],
   "source": [
    "import h2o\n",
    "from h2o.estimators import H2OXGBoostEstimator"
   ],
   "metadata": {
    "collapsed": false,
    "pycharm": {
     "name": "#%%\n"
    }
   }
  },
  {
   "cell_type": "code",
   "execution_count": 30,
   "outputs": [
    {
     "name": "stdout",
     "output_type": "stream",
     "text": [
      "Parse progress: |████████████████████████████████████████████████████████████████| (done) 100%\n",
      "Parse progress: |████████████████████████████████████████████████████████████████| (done) 100%\n",
      "Parse progress: |████████████████████████████████████████████████████████████████| (done) 100%\n"
     ]
    }
   ],
   "source": [
    "# turn dataframes into h2o frames\n",
    "train_hf = h2o.H2OFrame(train_df)\n",
    "valid_hf = h2o.H2OFrame(valid_df)\n",
    "test_hf  = h2o.H2OFrame(test_df)"
   ],
   "metadata": {
    "collapsed": false,
    "pycharm": {
     "name": "#%%\n"
    }
   }
  },
  {
   "cell_type": "code",
   "execution_count": 31,
   "outputs": [],
   "source": [
    "# Set the target and response; set the response as a factor:\n",
    "exclude = [\"writer\", \"director\", \"primaryTitle\", \"tconst\", \"primaryTitle\", \"originalTitle\", \"imdb_score\"]\n",
    "target, predictors = model.get_target_and_predictors(train_hf, \"label\", exclude=exclude)\n",
    "\n",
    "# Split the dataset into a train and valid set:\n",
    "train_train, train_valid = train_hf.split_frame(ratios=[.7], seed=1234)"
   ],
   "metadata": {
    "collapsed": false,
    "pycharm": {
     "name": "#%%\n"
    }
   }
  },
  {
   "cell_type": "code",
   "execution_count": 32,
   "outputs": [
    {
     "name": "stdout",
     "output_type": "stream",
     "text": [
      "xgboost Grid Build progress: |███████████████████████████████████████████████████| (done) 100%\n",
      "CPU times: user 29.9 s, sys: 3.69 s, total: 33.6 s\n",
      "Wall time: 44min 21s\n",
      "        col_sample_rate  learn_rate  max_depth  ntrees  sample_rate  \\\n",
      "0                   0.5        0.10        5.0   200.0          0.8   \n",
      "1                   0.5        0.10        5.0   200.0          0.8   \n",
      "2                   0.5        0.10        5.0   200.0          0.8   \n",
      "3                   1.0        0.10        3.0   300.0          0.8   \n",
      "4                   1.0        0.10        3.0   300.0          0.8   \n",
      "..  ..              ...         ...        ...     ...          ...   \n",
      "535                 0.2        0.01        3.0    30.0          1.0   \n",
      "536                 0.2        0.01        3.0    30.0          1.0   \n",
      "537                 0.2        0.01        3.0    30.0          0.8   \n",
      "538                 0.2        0.01        3.0    30.0          0.8   \n",
      "539                 0.2        0.01        3.0    30.0          0.8   \n",
      "\n",
      "     skip_drop           model_ids      rmse  \n",
      "0          0.5  xgb_grid_model_245  0.274063  \n",
      "1          1.0  xgb_grid_model_425  0.274063  \n",
      "2          0.0   xgb_grid_model_65  0.274063  \n",
      "3          0.5  xgb_grid_model_258  0.274685  \n",
      "4          1.0  xgb_grid_model_438  0.274685  \n",
      "..         ...                 ...       ...  \n",
      "535        1.0  xgb_grid_model_451  0.461411  \n",
      "536        0.0   xgb_grid_model_91  0.461411  \n",
      "537        0.0    xgb_grid_model_1  0.462025  \n",
      "538        0.5  xgb_grid_model_181  0.462025  \n",
      "539        1.0  xgb_grid_model_361  0.462025  \n",
      "\n",
      "[540 rows x 9 columns]\n"
     ]
    },
    {
     "data": {
      "text/plain": ""
     },
     "execution_count": 32,
     "metadata": {},
     "output_type": "execute_result"
    }
   ],
   "source": [
    "%%time\n",
    "\n",
    "xgb_params = {\n",
    "    'learn_rate': [0.01, 0.1],\n",
    "    'max_depth': [3, 5, 9],\n",
    "    'sample_rate': [0.8, 1.0],\n",
    "    'col_sample_rate': [0.2, 0.5, 1.0],\n",
    "    'skip_drop': [0, 0.5, 1.0],\n",
    "    'ntrees': [30, 50, 100, 200, 300],\n",
    "}\n",
    "grid, perf = model.grid_search_xgb(predictors, target, train_train, train_valid, xgb_params)\n",
    "perf"
   ],
   "metadata": {
    "collapsed": false,
    "pycharm": {
     "name": "#%%\n"
    }
   }
  },
  {
   "cell_type": "code",
   "execution_count": 33,
   "outputs": [
    {
     "name": "stdout",
     "output_type": "stream",
     "text": [
      "xgboost Model Build progress: |"
     ]
    },
    {
     "name": "stderr",
     "output_type": "stream",
     "text": [
      "/Users/e/opt/anaconda3/lib/python3.9/site-packages/h2o/estimators/estimator_base.py:208: RuntimeWarning: Dropping bad and constant columns: [title]\n",
      "  warnings.warn(mesg[\"message\"], RuntimeWarning)\n"
     ]
    },
    {
     "name": "stdout",
     "output_type": "stream",
     "text": [
      "██████████████████████████████████████████████████| (done) 100%\n",
      "Model Details\n",
      "=============\n",
      "H2OXGBoostEstimator :  XGBoost\n",
      "Model Key:  XGBoost_model_python_1648211921548_61848\n",
      "\n",
      "\n",
      "Model Summary: \n"
     ]
    },
    {
     "data": {
      "text/plain": "     number_of_trees\n0              200.0",
      "text/html": "<div>\n<style scoped>\n    .dataframe tbody tr th:only-of-type {\n        vertical-align: middle;\n    }\n\n    .dataframe tbody tr th {\n        vertical-align: top;\n    }\n\n    .dataframe thead th {\n        text-align: right;\n    }\n</style>\n<table border=\"1\" class=\"dataframe\">\n  <thead>\n    <tr style=\"text-align: right;\">\n      <th></th>\n      <th></th>\n      <th>number_of_trees</th>\n    </tr>\n  </thead>\n  <tbody>\n    <tr>\n      <th>0</th>\n      <td></td>\n      <td>200.0</td>\n    </tr>\n  </tbody>\n</table>\n</div>"
     },
     "metadata": {},
     "output_type": "display_data"
    },
    {
     "name": "stdout",
     "output_type": "stream",
     "text": [
      "\n",
      "\n",
      "ModelMetricsBinomial: xgboost\n",
      "** Reported on train data. **\n",
      "\n",
      "MSE: 0.048977760157752945\n",
      "RMSE: 0.2213091958273604\n",
      "LogLoss: 0.16903798097496678\n",
      "Mean Per-Class Error: 0.06334221797880946\n",
      "AUC: 0.9854590179151582\n",
      "AUCPR: 0.9860811611795959\n",
      "Gini: 0.9709180358303164\n",
      "\n",
      "Confusion Matrix (Act/Pred) for max f1 @ threshold = 0.49193911467279705: \n"
     ]
    },
    {
     "data": {
      "text/plain": "           False    True   Error             Rate\n0  False  3691.0   278.0    0.07   (278.0/3969.0)\n1   True   226.0  3764.0  0.0566   (226.0/3990.0)\n2  Total  3917.0  4042.0  0.0633   (504.0/7959.0)",
      "text/html": "<div>\n<style scoped>\n    .dataframe tbody tr th:only-of-type {\n        vertical-align: middle;\n    }\n\n    .dataframe tbody tr th {\n        vertical-align: top;\n    }\n\n    .dataframe thead th {\n        text-align: right;\n    }\n</style>\n<table border=\"1\" class=\"dataframe\">\n  <thead>\n    <tr style=\"text-align: right;\">\n      <th></th>\n      <th></th>\n      <th>False</th>\n      <th>True</th>\n      <th>Error</th>\n      <th>Rate</th>\n    </tr>\n  </thead>\n  <tbody>\n    <tr>\n      <th>0</th>\n      <td>False</td>\n      <td>3691.0</td>\n      <td>278.0</td>\n      <td>0.07</td>\n      <td>(278.0/3969.0)</td>\n    </tr>\n    <tr>\n      <th>1</th>\n      <td>True</td>\n      <td>226.0</td>\n      <td>3764.0</td>\n      <td>0.0566</td>\n      <td>(226.0/3990.0)</td>\n    </tr>\n    <tr>\n      <th>2</th>\n      <td>Total</td>\n      <td>3917.0</td>\n      <td>4042.0</td>\n      <td>0.0633</td>\n      <td>(504.0/7959.0)</td>\n    </tr>\n  </tbody>\n</table>\n</div>"
     },
     "metadata": {},
     "output_type": "display_data"
    },
    {
     "name": "stdout",
     "output_type": "stream",
     "text": [
      "\n",
      "Maximum Metrics: Maximum metrics at their respective thresholds\n"
     ]
    },
    {
     "data": {
      "text/plain": "                         metric  threshold        value    idx\n0                        max f1   0.491939     0.937251  205.0\n1                        max f2   0.289418     0.956594  263.0\n2                  max f0point5   0.645070     0.947833  158.0\n3                  max accuracy   0.491939     0.936675  205.0\n4                 max precision   0.999777     1.000000    0.0\n5                    max recall   0.017412     1.000000  380.0\n6               max specificity   0.999777     1.000000    0.0\n7              max absolute_mcc   0.491939     0.873420  205.0\n8    max min_per_class_accuracy   0.518867     0.935840  197.0\n9   max mean_per_class_accuracy   0.491939     0.936658  205.0\n10                      max tns   0.999777  3969.000000    0.0\n11                      max fns   0.999777  3691.000000    0.0\n12                      max fps   0.000591  3969.000000  399.0\n13                      max tps   0.017412  3990.000000  380.0\n14                      max tnr   0.999777     1.000000    0.0\n15                      max fnr   0.999777     0.925063    0.0\n16                      max fpr   0.000591     1.000000  399.0\n17                      max tpr   0.017412     1.000000  380.0",
      "text/html": "<div>\n<style scoped>\n    .dataframe tbody tr th:only-of-type {\n        vertical-align: middle;\n    }\n\n    .dataframe tbody tr th {\n        vertical-align: top;\n    }\n\n    .dataframe thead th {\n        text-align: right;\n    }\n</style>\n<table border=\"1\" class=\"dataframe\">\n  <thead>\n    <tr style=\"text-align: right;\">\n      <th></th>\n      <th>metric</th>\n      <th>threshold</th>\n      <th>value</th>\n      <th>idx</th>\n    </tr>\n  </thead>\n  <tbody>\n    <tr>\n      <th>0</th>\n      <td>max f1</td>\n      <td>0.491939</td>\n      <td>0.937251</td>\n      <td>205.0</td>\n    </tr>\n    <tr>\n      <th>1</th>\n      <td>max f2</td>\n      <td>0.289418</td>\n      <td>0.956594</td>\n      <td>263.0</td>\n    </tr>\n    <tr>\n      <th>2</th>\n      <td>max f0point5</td>\n      <td>0.645070</td>\n      <td>0.947833</td>\n      <td>158.0</td>\n    </tr>\n    <tr>\n      <th>3</th>\n      <td>max accuracy</td>\n      <td>0.491939</td>\n      <td>0.936675</td>\n      <td>205.0</td>\n    </tr>\n    <tr>\n      <th>4</th>\n      <td>max precision</td>\n      <td>0.999777</td>\n      <td>1.000000</td>\n      <td>0.0</td>\n    </tr>\n    <tr>\n      <th>5</th>\n      <td>max recall</td>\n      <td>0.017412</td>\n      <td>1.000000</td>\n      <td>380.0</td>\n    </tr>\n    <tr>\n      <th>6</th>\n      <td>max specificity</td>\n      <td>0.999777</td>\n      <td>1.000000</td>\n      <td>0.0</td>\n    </tr>\n    <tr>\n      <th>7</th>\n      <td>max absolute_mcc</td>\n      <td>0.491939</td>\n      <td>0.873420</td>\n      <td>205.0</td>\n    </tr>\n    <tr>\n      <th>8</th>\n      <td>max min_per_class_accuracy</td>\n      <td>0.518867</td>\n      <td>0.935840</td>\n      <td>197.0</td>\n    </tr>\n    <tr>\n      <th>9</th>\n      <td>max mean_per_class_accuracy</td>\n      <td>0.491939</td>\n      <td>0.936658</td>\n      <td>205.0</td>\n    </tr>\n    <tr>\n      <th>10</th>\n      <td>max tns</td>\n      <td>0.999777</td>\n      <td>3969.000000</td>\n      <td>0.0</td>\n    </tr>\n    <tr>\n      <th>11</th>\n      <td>max fns</td>\n      <td>0.999777</td>\n      <td>3691.000000</td>\n      <td>0.0</td>\n    </tr>\n    <tr>\n      <th>12</th>\n      <td>max fps</td>\n      <td>0.000591</td>\n      <td>3969.000000</td>\n      <td>399.0</td>\n    </tr>\n    <tr>\n      <th>13</th>\n      <td>max tps</td>\n      <td>0.017412</td>\n      <td>3990.000000</td>\n      <td>380.0</td>\n    </tr>\n    <tr>\n      <th>14</th>\n      <td>max tnr</td>\n      <td>0.999777</td>\n      <td>1.000000</td>\n      <td>0.0</td>\n    </tr>\n    <tr>\n      <th>15</th>\n      <td>max fnr</td>\n      <td>0.999777</td>\n      <td>0.925063</td>\n      <td>0.0</td>\n    </tr>\n    <tr>\n      <th>16</th>\n      <td>max fpr</td>\n      <td>0.000591</td>\n      <td>1.000000</td>\n      <td>399.0</td>\n    </tr>\n    <tr>\n      <th>17</th>\n      <td>max tpr</td>\n      <td>0.017412</td>\n      <td>1.000000</td>\n      <td>380.0</td>\n    </tr>\n  </tbody>\n</table>\n</div>"
     },
     "metadata": {},
     "output_type": "display_data"
    },
    {
     "name": "stdout",
     "output_type": "stream",
     "text": [
      "\n",
      "Gains/Lift Table: Avg response rate: 50.13 %, avg score: 50.09 %\n"
     ]
    },
    {
     "data": {
      "text/plain": "    group  cumulative_data_fraction  lower_threshold      lift  \\\n0       1                  0.010052         0.999910  1.994737   \n1       2                  0.020103         0.999796  1.994737   \n2       3                  0.030029         0.999659  1.994737   \n3       4                  0.040080         0.999485  1.994737   \n4       5                  0.050006         0.999269  1.994737   \n5       6                  0.100013         0.997226  1.994737   \n6       7                  0.150019         0.993124  1.994737   \n7       8                  0.200025         0.984169  1.994737   \n8       9                  0.300038         0.932783  1.984713   \n9      10                  0.400050         0.804962  1.891993   \n10     11                  0.500063         0.519432  1.483523   \n11     12                  0.599950         0.194208  0.536948   \n12     13                  0.699962         0.058232  0.090214   \n13     14                  0.799975         0.017514  0.017542   \n14     15                  0.899987         0.004834  0.005012   \n15     16                  1.000000         0.000082  0.000000   \n\n    cumulative_lift  response_rate     score  cumulative_response_rate  \\\n0          1.994737       1.000000  0.999950                  1.000000   \n1          1.994737       1.000000  0.999857                  1.000000   \n2          1.994737       1.000000  0.999739                  1.000000   \n3          1.994737       1.000000  0.999563                  1.000000   \n4          1.994737       1.000000  0.999388                  1.000000   \n5          1.994737       1.000000  0.998343                  1.000000   \n6          1.994737       1.000000  0.995515                  1.000000   \n7          1.994737       1.000000  0.989178                  1.000000   \n8          1.991396       0.994975  0.963120                  0.998325   \n9          1.966545       0.948492  0.878925                  0.985867   \n10         1.869940       0.743719  0.673047                  0.937437   \n11         1.648008       0.269182  0.342849                  0.826178   \n12         1.425426       0.045226  0.112686                  0.714593   \n13         1.249413       0.008794  0.034967                  0.626355   \n14         1.111127       0.002513  0.009711                  0.557029   \n15         1.000000       0.000000  0.002341                  0.501319   \n\n    cumulative_score  capture_rate  cumulative_capture_rate        gain  \\\n0           0.999950      0.020050                 0.020050   99.473684   \n1           0.999903      0.020050                 0.040100   99.473684   \n2           0.999849      0.019799                 0.059900   99.473684   \n3           0.999777      0.020050                 0.079950   99.473684   \n4           0.999700      0.019799                 0.099749   99.473684   \n5           0.999021      0.099749                 0.199499   99.473684   \n6           0.997852      0.099749                 0.299248   99.473684   \n7           0.995684      0.099749                 0.398997   99.473684   \n8           0.984829      0.198496                 0.597494   98.471304   \n9           0.958353      0.189223                 0.786717   89.199286   \n10          0.901292      0.148371                 0.935088   48.352288   \n11          0.808316      0.053634                 0.988722  -46.305197   \n12          0.708922      0.009023                 0.997744  -90.978577   \n13          0.624664      0.001754                 0.999499  -98.245834   \n14          0.556327      0.000501                 1.000000  -99.498810   \n15          0.500921      0.000000                 1.000000 -100.000000   \n\n    cumulative_gain  kolmogorov_smirnov  \n0         99.473684            0.020050  \n1         99.473684            0.040100  \n2         99.473684            0.059900  \n3         99.473684            0.079950  \n4         99.473684            0.099749  \n5         99.473684            0.199499  \n6         99.473684            0.299248  \n7         99.473684            0.398997  \n8         99.139557            0.596486  \n9         96.654490            0.775379  \n10        86.994049            0.872352  \n11        64.800772            0.779601  \n12        42.542584            0.597140  \n13        24.941268            0.400103  \n14        11.112662            0.200554  \n15         0.000000            0.000000  ",
      "text/html": "<div>\n<style scoped>\n    .dataframe tbody tr th:only-of-type {\n        vertical-align: middle;\n    }\n\n    .dataframe tbody tr th {\n        vertical-align: top;\n    }\n\n    .dataframe thead th {\n        text-align: right;\n    }\n</style>\n<table border=\"1\" class=\"dataframe\">\n  <thead>\n    <tr style=\"text-align: right;\">\n      <th></th>\n      <th>group</th>\n      <th>cumulative_data_fraction</th>\n      <th>lower_threshold</th>\n      <th>lift</th>\n      <th>cumulative_lift</th>\n      <th>response_rate</th>\n      <th>score</th>\n      <th>cumulative_response_rate</th>\n      <th>cumulative_score</th>\n      <th>capture_rate</th>\n      <th>cumulative_capture_rate</th>\n      <th>gain</th>\n      <th>cumulative_gain</th>\n      <th>kolmogorov_smirnov</th>\n    </tr>\n  </thead>\n  <tbody>\n    <tr>\n      <th>0</th>\n      <td>1</td>\n      <td>0.010052</td>\n      <td>0.999910</td>\n      <td>1.994737</td>\n      <td>1.994737</td>\n      <td>1.000000</td>\n      <td>0.999950</td>\n      <td>1.000000</td>\n      <td>0.999950</td>\n      <td>0.020050</td>\n      <td>0.020050</td>\n      <td>99.473684</td>\n      <td>99.473684</td>\n      <td>0.020050</td>\n    </tr>\n    <tr>\n      <th>1</th>\n      <td>2</td>\n      <td>0.020103</td>\n      <td>0.999796</td>\n      <td>1.994737</td>\n      <td>1.994737</td>\n      <td>1.000000</td>\n      <td>0.999857</td>\n      <td>1.000000</td>\n      <td>0.999903</td>\n      <td>0.020050</td>\n      <td>0.040100</td>\n      <td>99.473684</td>\n      <td>99.473684</td>\n      <td>0.040100</td>\n    </tr>\n    <tr>\n      <th>2</th>\n      <td>3</td>\n      <td>0.030029</td>\n      <td>0.999659</td>\n      <td>1.994737</td>\n      <td>1.994737</td>\n      <td>1.000000</td>\n      <td>0.999739</td>\n      <td>1.000000</td>\n      <td>0.999849</td>\n      <td>0.019799</td>\n      <td>0.059900</td>\n      <td>99.473684</td>\n      <td>99.473684</td>\n      <td>0.059900</td>\n    </tr>\n    <tr>\n      <th>3</th>\n      <td>4</td>\n      <td>0.040080</td>\n      <td>0.999485</td>\n      <td>1.994737</td>\n      <td>1.994737</td>\n      <td>1.000000</td>\n      <td>0.999563</td>\n      <td>1.000000</td>\n      <td>0.999777</td>\n      <td>0.020050</td>\n      <td>0.079950</td>\n      <td>99.473684</td>\n      <td>99.473684</td>\n      <td>0.079950</td>\n    </tr>\n    <tr>\n      <th>4</th>\n      <td>5</td>\n      <td>0.050006</td>\n      <td>0.999269</td>\n      <td>1.994737</td>\n      <td>1.994737</td>\n      <td>1.000000</td>\n      <td>0.999388</td>\n      <td>1.000000</td>\n      <td>0.999700</td>\n      <td>0.019799</td>\n      <td>0.099749</td>\n      <td>99.473684</td>\n      <td>99.473684</td>\n      <td>0.099749</td>\n    </tr>\n    <tr>\n      <th>5</th>\n      <td>6</td>\n      <td>0.100013</td>\n      <td>0.997226</td>\n      <td>1.994737</td>\n      <td>1.994737</td>\n      <td>1.000000</td>\n      <td>0.998343</td>\n      <td>1.000000</td>\n      <td>0.999021</td>\n      <td>0.099749</td>\n      <td>0.199499</td>\n      <td>99.473684</td>\n      <td>99.473684</td>\n      <td>0.199499</td>\n    </tr>\n    <tr>\n      <th>6</th>\n      <td>7</td>\n      <td>0.150019</td>\n      <td>0.993124</td>\n      <td>1.994737</td>\n      <td>1.994737</td>\n      <td>1.000000</td>\n      <td>0.995515</td>\n      <td>1.000000</td>\n      <td>0.997852</td>\n      <td>0.099749</td>\n      <td>0.299248</td>\n      <td>99.473684</td>\n      <td>99.473684</td>\n      <td>0.299248</td>\n    </tr>\n    <tr>\n      <th>7</th>\n      <td>8</td>\n      <td>0.200025</td>\n      <td>0.984169</td>\n      <td>1.994737</td>\n      <td>1.994737</td>\n      <td>1.000000</td>\n      <td>0.989178</td>\n      <td>1.000000</td>\n      <td>0.995684</td>\n      <td>0.099749</td>\n      <td>0.398997</td>\n      <td>99.473684</td>\n      <td>99.473684</td>\n      <td>0.398997</td>\n    </tr>\n    <tr>\n      <th>8</th>\n      <td>9</td>\n      <td>0.300038</td>\n      <td>0.932783</td>\n      <td>1.984713</td>\n      <td>1.991396</td>\n      <td>0.994975</td>\n      <td>0.963120</td>\n      <td>0.998325</td>\n      <td>0.984829</td>\n      <td>0.198496</td>\n      <td>0.597494</td>\n      <td>98.471304</td>\n      <td>99.139557</td>\n      <td>0.596486</td>\n    </tr>\n    <tr>\n      <th>9</th>\n      <td>10</td>\n      <td>0.400050</td>\n      <td>0.804962</td>\n      <td>1.891993</td>\n      <td>1.966545</td>\n      <td>0.948492</td>\n      <td>0.878925</td>\n      <td>0.985867</td>\n      <td>0.958353</td>\n      <td>0.189223</td>\n      <td>0.786717</td>\n      <td>89.199286</td>\n      <td>96.654490</td>\n      <td>0.775379</td>\n    </tr>\n    <tr>\n      <th>10</th>\n      <td>11</td>\n      <td>0.500063</td>\n      <td>0.519432</td>\n      <td>1.483523</td>\n      <td>1.869940</td>\n      <td>0.743719</td>\n      <td>0.673047</td>\n      <td>0.937437</td>\n      <td>0.901292</td>\n      <td>0.148371</td>\n      <td>0.935088</td>\n      <td>48.352288</td>\n      <td>86.994049</td>\n      <td>0.872352</td>\n    </tr>\n    <tr>\n      <th>11</th>\n      <td>12</td>\n      <td>0.599950</td>\n      <td>0.194208</td>\n      <td>0.536948</td>\n      <td>1.648008</td>\n      <td>0.269182</td>\n      <td>0.342849</td>\n      <td>0.826178</td>\n      <td>0.808316</td>\n      <td>0.053634</td>\n      <td>0.988722</td>\n      <td>-46.305197</td>\n      <td>64.800772</td>\n      <td>0.779601</td>\n    </tr>\n    <tr>\n      <th>12</th>\n      <td>13</td>\n      <td>0.699962</td>\n      <td>0.058232</td>\n      <td>0.090214</td>\n      <td>1.425426</td>\n      <td>0.045226</td>\n      <td>0.112686</td>\n      <td>0.714593</td>\n      <td>0.708922</td>\n      <td>0.009023</td>\n      <td>0.997744</td>\n      <td>-90.978577</td>\n      <td>42.542584</td>\n      <td>0.597140</td>\n    </tr>\n    <tr>\n      <th>13</th>\n      <td>14</td>\n      <td>0.799975</td>\n      <td>0.017514</td>\n      <td>0.017542</td>\n      <td>1.249413</td>\n      <td>0.008794</td>\n      <td>0.034967</td>\n      <td>0.626355</td>\n      <td>0.624664</td>\n      <td>0.001754</td>\n      <td>0.999499</td>\n      <td>-98.245834</td>\n      <td>24.941268</td>\n      <td>0.400103</td>\n    </tr>\n    <tr>\n      <th>14</th>\n      <td>15</td>\n      <td>0.899987</td>\n      <td>0.004834</td>\n      <td>0.005012</td>\n      <td>1.111127</td>\n      <td>0.002513</td>\n      <td>0.009711</td>\n      <td>0.557029</td>\n      <td>0.556327</td>\n      <td>0.000501</td>\n      <td>1.000000</td>\n      <td>-99.498810</td>\n      <td>11.112662</td>\n      <td>0.200554</td>\n    </tr>\n    <tr>\n      <th>15</th>\n      <td>16</td>\n      <td>1.000000</td>\n      <td>0.000082</td>\n      <td>0.000000</td>\n      <td>1.000000</td>\n      <td>0.000000</td>\n      <td>0.002341</td>\n      <td>0.501319</td>\n      <td>0.500921</td>\n      <td>0.000000</td>\n      <td>1.000000</td>\n      <td>-100.000000</td>\n      <td>0.000000</td>\n      <td>0.000000</td>\n    </tr>\n  </tbody>\n</table>\n</div>"
     },
     "metadata": {},
     "output_type": "display_data"
    },
    {
     "name": "stdout",
     "output_type": "stream",
     "text": [
      "\n",
      "\n",
      "Scoring History: \n"
     ]
    },
    {
     "data": {
      "text/plain": "                timestamp    duration  number_of_trees  training_rmse  \\\n0     2022-03-25 15:30:26   0.186 sec              0.0       0.500000   \n1     2022-03-25 15:30:26   0.365 sec              1.0       0.477060   \n2     2022-03-25 15:30:26   0.458 sec              2.0       0.457745   \n3     2022-03-25 15:30:26   0.532 sec              3.0       0.440142   \n4     2022-03-25 15:30:27   0.604 sec              4.0       0.423768   \n5     2022-03-25 15:30:27   0.675 sec              5.0       0.409273   \n6     2022-03-25 15:30:27   0.739 sec              6.0       0.398171   \n7     2022-03-25 15:30:27   0.809 sec              7.0       0.387571   \n8     2022-03-25 15:30:27   0.880 sec              8.0       0.377102   \n9     2022-03-25 15:30:27   0.945 sec              9.0       0.368229   \n10    2022-03-25 15:30:27   1.006 sec             10.0       0.360804   \n11    2022-03-25 15:30:27   1.068 sec             11.0       0.353573   \n12    2022-03-25 15:30:27   1.134 sec             12.0       0.348445   \n13    2022-03-25 15:30:27   1.198 sec             13.0       0.341416   \n14    2022-03-25 15:30:27   1.264 sec             14.0       0.336136   \n15    2022-03-25 15:30:27   1.339 sec             15.0       0.331694   \n16    2022-03-25 15:30:27   1.412 sec             16.0       0.328102   \n17    2022-03-25 15:30:27   1.512 sec             17.0       0.324273   \n18    2022-03-25 15:30:28   1.588 sec             18.0       0.321434   \n19    2022-03-25 15:30:28   1.658 sec             19.0       0.317915   \n\n    training_logloss  training_auc  training_pr_auc  training_lift  \\\n0           0.693147      0.500000         0.501319       1.000000   \n1           0.648213      0.890433         0.897377       1.958698   \n2           0.611590      0.907608         0.915217       1.985430   \n3           0.578972      0.922140         0.927577       1.994737   \n4           0.548995      0.930836         0.935223       1.994737   \n5           0.522805      0.936615         0.939849       1.994737   \n6           0.502454      0.937953         0.941153       1.994737   \n7           0.483127      0.938602         0.941954       1.994737   \n8           0.464049      0.941436         0.944723       1.994737   \n9           0.447366      0.942609         0.945521       1.994737   \n10          0.433239      0.943700         0.946619       1.994737   \n11          0.419509      0.944415         0.947239       1.994737   \n12          0.409170      0.944403         0.947343       1.994737   \n13          0.395935      0.946683         0.949103       1.994737   \n14          0.385516      0.947713         0.949891       1.994737   \n15          0.376417      0.948782         0.950931       1.994737   \n16          0.368855      0.949485         0.951793       1.994737   \n17          0.361237      0.950415         0.952763       1.994737   \n18          0.354771      0.951059         0.953239       1.994737   \n19          0.347721      0.952116         0.954272       1.994737   \n\n    training_classification_error  \n0                        0.498681  \n1                        0.190979  \n2                        0.164845  \n3                        0.166478  \n4                        0.158186  \n5                        0.149516  \n6                        0.151150  \n7                        0.146250  \n8                        0.138962  \n9                        0.138208  \n10                       0.137957  \n11                       0.137329  \n12                       0.137203  \n13                       0.139590  \n14                       0.133183  \n15                       0.128282  \n16                       0.130041  \n17                       0.129665  \n18                       0.128282  \n19                       0.125770  ",
      "text/html": "<div>\n<style scoped>\n    .dataframe tbody tr th:only-of-type {\n        vertical-align: middle;\n    }\n\n    .dataframe tbody tr th {\n        vertical-align: top;\n    }\n\n    .dataframe thead th {\n        text-align: right;\n    }\n</style>\n<table border=\"1\" class=\"dataframe\">\n  <thead>\n    <tr style=\"text-align: right;\">\n      <th></th>\n      <th></th>\n      <th>timestamp</th>\n      <th>duration</th>\n      <th>number_of_trees</th>\n      <th>training_rmse</th>\n      <th>training_logloss</th>\n      <th>training_auc</th>\n      <th>training_pr_auc</th>\n      <th>training_lift</th>\n      <th>training_classification_error</th>\n    </tr>\n  </thead>\n  <tbody>\n    <tr>\n      <th>0</th>\n      <td></td>\n      <td>2022-03-25 15:30:26</td>\n      <td>0.186 sec</td>\n      <td>0.0</td>\n      <td>0.500000</td>\n      <td>0.693147</td>\n      <td>0.500000</td>\n      <td>0.501319</td>\n      <td>1.000000</td>\n      <td>0.498681</td>\n    </tr>\n    <tr>\n      <th>1</th>\n      <td></td>\n      <td>2022-03-25 15:30:26</td>\n      <td>0.365 sec</td>\n      <td>1.0</td>\n      <td>0.477060</td>\n      <td>0.648213</td>\n      <td>0.890433</td>\n      <td>0.897377</td>\n      <td>1.958698</td>\n      <td>0.190979</td>\n    </tr>\n    <tr>\n      <th>2</th>\n      <td></td>\n      <td>2022-03-25 15:30:26</td>\n      <td>0.458 sec</td>\n      <td>2.0</td>\n      <td>0.457745</td>\n      <td>0.611590</td>\n      <td>0.907608</td>\n      <td>0.915217</td>\n      <td>1.985430</td>\n      <td>0.164845</td>\n    </tr>\n    <tr>\n      <th>3</th>\n      <td></td>\n      <td>2022-03-25 15:30:26</td>\n      <td>0.532 sec</td>\n      <td>3.0</td>\n      <td>0.440142</td>\n      <td>0.578972</td>\n      <td>0.922140</td>\n      <td>0.927577</td>\n      <td>1.994737</td>\n      <td>0.166478</td>\n    </tr>\n    <tr>\n      <th>4</th>\n      <td></td>\n      <td>2022-03-25 15:30:27</td>\n      <td>0.604 sec</td>\n      <td>4.0</td>\n      <td>0.423768</td>\n      <td>0.548995</td>\n      <td>0.930836</td>\n      <td>0.935223</td>\n      <td>1.994737</td>\n      <td>0.158186</td>\n    </tr>\n    <tr>\n      <th>5</th>\n      <td></td>\n      <td>2022-03-25 15:30:27</td>\n      <td>0.675 sec</td>\n      <td>5.0</td>\n      <td>0.409273</td>\n      <td>0.522805</td>\n      <td>0.936615</td>\n      <td>0.939849</td>\n      <td>1.994737</td>\n      <td>0.149516</td>\n    </tr>\n    <tr>\n      <th>6</th>\n      <td></td>\n      <td>2022-03-25 15:30:27</td>\n      <td>0.739 sec</td>\n      <td>6.0</td>\n      <td>0.398171</td>\n      <td>0.502454</td>\n      <td>0.937953</td>\n      <td>0.941153</td>\n      <td>1.994737</td>\n      <td>0.151150</td>\n    </tr>\n    <tr>\n      <th>7</th>\n      <td></td>\n      <td>2022-03-25 15:30:27</td>\n      <td>0.809 sec</td>\n      <td>7.0</td>\n      <td>0.387571</td>\n      <td>0.483127</td>\n      <td>0.938602</td>\n      <td>0.941954</td>\n      <td>1.994737</td>\n      <td>0.146250</td>\n    </tr>\n    <tr>\n      <th>8</th>\n      <td></td>\n      <td>2022-03-25 15:30:27</td>\n      <td>0.880 sec</td>\n      <td>8.0</td>\n      <td>0.377102</td>\n      <td>0.464049</td>\n      <td>0.941436</td>\n      <td>0.944723</td>\n      <td>1.994737</td>\n      <td>0.138962</td>\n    </tr>\n    <tr>\n      <th>9</th>\n      <td></td>\n      <td>2022-03-25 15:30:27</td>\n      <td>0.945 sec</td>\n      <td>9.0</td>\n      <td>0.368229</td>\n      <td>0.447366</td>\n      <td>0.942609</td>\n      <td>0.945521</td>\n      <td>1.994737</td>\n      <td>0.138208</td>\n    </tr>\n    <tr>\n      <th>10</th>\n      <td></td>\n      <td>2022-03-25 15:30:27</td>\n      <td>1.006 sec</td>\n      <td>10.0</td>\n      <td>0.360804</td>\n      <td>0.433239</td>\n      <td>0.943700</td>\n      <td>0.946619</td>\n      <td>1.994737</td>\n      <td>0.137957</td>\n    </tr>\n    <tr>\n      <th>11</th>\n      <td></td>\n      <td>2022-03-25 15:30:27</td>\n      <td>1.068 sec</td>\n      <td>11.0</td>\n      <td>0.353573</td>\n      <td>0.419509</td>\n      <td>0.944415</td>\n      <td>0.947239</td>\n      <td>1.994737</td>\n      <td>0.137329</td>\n    </tr>\n    <tr>\n      <th>12</th>\n      <td></td>\n      <td>2022-03-25 15:30:27</td>\n      <td>1.134 sec</td>\n      <td>12.0</td>\n      <td>0.348445</td>\n      <td>0.409170</td>\n      <td>0.944403</td>\n      <td>0.947343</td>\n      <td>1.994737</td>\n      <td>0.137203</td>\n    </tr>\n    <tr>\n      <th>13</th>\n      <td></td>\n      <td>2022-03-25 15:30:27</td>\n      <td>1.198 sec</td>\n      <td>13.0</td>\n      <td>0.341416</td>\n      <td>0.395935</td>\n      <td>0.946683</td>\n      <td>0.949103</td>\n      <td>1.994737</td>\n      <td>0.139590</td>\n    </tr>\n    <tr>\n      <th>14</th>\n      <td></td>\n      <td>2022-03-25 15:30:27</td>\n      <td>1.264 sec</td>\n      <td>14.0</td>\n      <td>0.336136</td>\n      <td>0.385516</td>\n      <td>0.947713</td>\n      <td>0.949891</td>\n      <td>1.994737</td>\n      <td>0.133183</td>\n    </tr>\n    <tr>\n      <th>15</th>\n      <td></td>\n      <td>2022-03-25 15:30:27</td>\n      <td>1.339 sec</td>\n      <td>15.0</td>\n      <td>0.331694</td>\n      <td>0.376417</td>\n      <td>0.948782</td>\n      <td>0.950931</td>\n      <td>1.994737</td>\n      <td>0.128282</td>\n    </tr>\n    <tr>\n      <th>16</th>\n      <td></td>\n      <td>2022-03-25 15:30:27</td>\n      <td>1.412 sec</td>\n      <td>16.0</td>\n      <td>0.328102</td>\n      <td>0.368855</td>\n      <td>0.949485</td>\n      <td>0.951793</td>\n      <td>1.994737</td>\n      <td>0.130041</td>\n    </tr>\n    <tr>\n      <th>17</th>\n      <td></td>\n      <td>2022-03-25 15:30:27</td>\n      <td>1.512 sec</td>\n      <td>17.0</td>\n      <td>0.324273</td>\n      <td>0.361237</td>\n      <td>0.950415</td>\n      <td>0.952763</td>\n      <td>1.994737</td>\n      <td>0.129665</td>\n    </tr>\n    <tr>\n      <th>18</th>\n      <td></td>\n      <td>2022-03-25 15:30:28</td>\n      <td>1.588 sec</td>\n      <td>18.0</td>\n      <td>0.321434</td>\n      <td>0.354771</td>\n      <td>0.951059</td>\n      <td>0.953239</td>\n      <td>1.994737</td>\n      <td>0.128282</td>\n    </tr>\n    <tr>\n      <th>19</th>\n      <td></td>\n      <td>2022-03-25 15:30:28</td>\n      <td>1.658 sec</td>\n      <td>19.0</td>\n      <td>0.317915</td>\n      <td>0.347721</td>\n      <td>0.952116</td>\n      <td>0.954272</td>\n      <td>1.994737</td>\n      <td>0.125770</td>\n    </tr>\n  </tbody>\n</table>\n</div>"
     },
     "metadata": {},
     "output_type": "display_data"
    },
    {
     "name": "stdout",
     "output_type": "stream",
     "text": [
      "\n",
      "See the whole table with table.as_data_frame()\n",
      "\n",
      "Variable Importances: \n"
     ]
    },
    {
     "data": {
      "text/plain": "             variable  relative_importance  scaled_importance  percentage\n0        rotten_score          9172.374023           1.000000    0.244750\n1      runtimeMinutes          4571.787598           0.498430    0.121991\n2          meta_score          3811.729980           0.415566    0.101710\n3                year          3156.798828           0.344164    0.084234\n4            numVotes          2619.933838           0.285633    0.069909\n5    yearsFromRelease          2275.590576           0.248092    0.060720\n6         Horror.True          1704.892456           0.185873    0.045492\n7        Horror.False          1327.255981           0.144701    0.035416\n8   Documentary.False          1270.192749           0.138480    0.033893\n9        awards.False          1199.269897           0.130748    0.032001\n10        Drama.False          1127.580933           0.122932    0.030088\n11   Documentary.True           777.912903           0.084810    0.020757\n12    Animation.False           624.836609           0.068122    0.016673\n13        awards.True           338.354156           0.036888    0.009028\n14       Action.False           303.650604           0.033105    0.008102\n15       Sci-Fi.False           254.588440           0.027756    0.006793\n16        Action.True           245.363647           0.026750    0.006547\n17         Drama.True           222.579391           0.024266    0.005939\n18       Comedy.False           214.080963           0.023340    0.005712\n19     Animation.True           211.035492           0.023008    0.005631",
      "text/html": "<div>\n<style scoped>\n    .dataframe tbody tr th:only-of-type {\n        vertical-align: middle;\n    }\n\n    .dataframe tbody tr th {\n        vertical-align: top;\n    }\n\n    .dataframe thead th {\n        text-align: right;\n    }\n</style>\n<table border=\"1\" class=\"dataframe\">\n  <thead>\n    <tr style=\"text-align: right;\">\n      <th></th>\n      <th>variable</th>\n      <th>relative_importance</th>\n      <th>scaled_importance</th>\n      <th>percentage</th>\n    </tr>\n  </thead>\n  <tbody>\n    <tr>\n      <th>0</th>\n      <td>rotten_score</td>\n      <td>9172.374023</td>\n      <td>1.000000</td>\n      <td>0.244750</td>\n    </tr>\n    <tr>\n      <th>1</th>\n      <td>runtimeMinutes</td>\n      <td>4571.787598</td>\n      <td>0.498430</td>\n      <td>0.121991</td>\n    </tr>\n    <tr>\n      <th>2</th>\n      <td>meta_score</td>\n      <td>3811.729980</td>\n      <td>0.415566</td>\n      <td>0.101710</td>\n    </tr>\n    <tr>\n      <th>3</th>\n      <td>year</td>\n      <td>3156.798828</td>\n      <td>0.344164</td>\n      <td>0.084234</td>\n    </tr>\n    <tr>\n      <th>4</th>\n      <td>numVotes</td>\n      <td>2619.933838</td>\n      <td>0.285633</td>\n      <td>0.069909</td>\n    </tr>\n    <tr>\n      <th>5</th>\n      <td>yearsFromRelease</td>\n      <td>2275.590576</td>\n      <td>0.248092</td>\n      <td>0.060720</td>\n    </tr>\n    <tr>\n      <th>6</th>\n      <td>Horror.True</td>\n      <td>1704.892456</td>\n      <td>0.185873</td>\n      <td>0.045492</td>\n    </tr>\n    <tr>\n      <th>7</th>\n      <td>Horror.False</td>\n      <td>1327.255981</td>\n      <td>0.144701</td>\n      <td>0.035416</td>\n    </tr>\n    <tr>\n      <th>8</th>\n      <td>Documentary.False</td>\n      <td>1270.192749</td>\n      <td>0.138480</td>\n      <td>0.033893</td>\n    </tr>\n    <tr>\n      <th>9</th>\n      <td>awards.False</td>\n      <td>1199.269897</td>\n      <td>0.130748</td>\n      <td>0.032001</td>\n    </tr>\n    <tr>\n      <th>10</th>\n      <td>Drama.False</td>\n      <td>1127.580933</td>\n      <td>0.122932</td>\n      <td>0.030088</td>\n    </tr>\n    <tr>\n      <th>11</th>\n      <td>Documentary.True</td>\n      <td>777.912903</td>\n      <td>0.084810</td>\n      <td>0.020757</td>\n    </tr>\n    <tr>\n      <th>12</th>\n      <td>Animation.False</td>\n      <td>624.836609</td>\n      <td>0.068122</td>\n      <td>0.016673</td>\n    </tr>\n    <tr>\n      <th>13</th>\n      <td>awards.True</td>\n      <td>338.354156</td>\n      <td>0.036888</td>\n      <td>0.009028</td>\n    </tr>\n    <tr>\n      <th>14</th>\n      <td>Action.False</td>\n      <td>303.650604</td>\n      <td>0.033105</td>\n      <td>0.008102</td>\n    </tr>\n    <tr>\n      <th>15</th>\n      <td>Sci-Fi.False</td>\n      <td>254.588440</td>\n      <td>0.027756</td>\n      <td>0.006793</td>\n    </tr>\n    <tr>\n      <th>16</th>\n      <td>Action.True</td>\n      <td>245.363647</td>\n      <td>0.026750</td>\n      <td>0.006547</td>\n    </tr>\n    <tr>\n      <th>17</th>\n      <td>Drama.True</td>\n      <td>222.579391</td>\n      <td>0.024266</td>\n      <td>0.005939</td>\n    </tr>\n    <tr>\n      <th>18</th>\n      <td>Comedy.False</td>\n      <td>214.080963</td>\n      <td>0.023340</td>\n      <td>0.005712</td>\n    </tr>\n    <tr>\n      <th>19</th>\n      <td>Animation.True</td>\n      <td>211.035492</td>\n      <td>0.023008</td>\n      <td>0.005631</td>\n    </tr>\n  </tbody>\n</table>\n</div>"
     },
     "metadata": {},
     "output_type": "display_data"
    },
    {
     "name": "stdout",
     "output_type": "stream",
     "text": [
      "\n",
      "See the whole table with table.as_data_frame()\n"
     ]
    },
    {
     "data": {
      "text/plain": ""
     },
     "execution_count": 33,
     "metadata": {},
     "output_type": "execute_result"
    }
   ],
   "source": [
    "# Build and train the model:\n",
    "imdb_xgb = H2OXGBoostEstimator(\n",
    "    seed=10,\n",
    "    learn_rate=0.1,\n",
    "    max_depth=5,\n",
    "    sample_rate=0.8,\n",
    "    col_sample_rate=0.5,\n",
    "    skip_drop=0.5,\n",
    "    ntrees=200,\n",
    ")\n",
    "imdb_xgb.train(x=predictors,\n",
    "               y=target,\n",
    "               training_frame=train_hf)\n",
    "               #validation_frame=train_valid)"
   ],
   "metadata": {
    "collapsed": false,
    "pycharm": {
     "name": "#%%\n"
    }
   }
  },
  {
   "cell_type": "code",
   "execution_count": null,
   "outputs": [],
   "source": [
    "# Extract feature interactions:\n",
    "feature_interactions = imdb_xgb.feature_interaction()\n",
    "# feature_interactions"
   ],
   "metadata": {
    "collapsed": false,
    "pycharm": {
     "name": "#%%\n"
    }
   }
  },
  {
   "cell_type": "code",
   "execution_count": 34,
   "outputs": [
    {
     "name": "stdout",
     "output_type": "stream",
     "text": [
      "xgboost prediction progress: |███████████████████████████████████████████████████| (done) 100%\n",
      "xgboost prediction progress: |███████████████████████████████████████████████████| (done) 100%\n"
     ]
    }
   ],
   "source": [
    "p_valid  = imdb_xgb.predict(valid_hf)\n",
    "p_test = imdb_xgb.predict(test_hf)"
   ],
   "metadata": {
    "collapsed": false,
    "pycharm": {
     "name": "#%%\n"
    }
   }
  },
  {
   "cell_type": "markdown",
   "source": [
    "---\n",
    "# Make predictions"
   ],
   "metadata": {
    "collapsed": false
   }
  },
  {
   "cell_type": "code",
   "execution_count": 35,
   "outputs": [
    {
     "name": "stdout",
     "output_type": "stream",
     "text": [
      " T/T+F Ratio: 0.49214659685863876\n",
      " T/T+F Ratio: 0.5184162062615101\n"
     ]
    }
   ],
   "source": [
    "output_path_valid = 'output/prediction_validation.txt'\n",
    "model.write_prediction_to_file(p_valid, output_path_valid)\n",
    "\n",
    "output_path_test = 'output/prediction_test.txt'\n",
    "model.write_prediction_to_file(p_test, output_path_test)"
   ],
   "metadata": {
    "collapsed": false,
    "pycharm": {
     "name": "#%%\n"
    }
   }
  }
 ],
 "metadata": {
  "kernelspec": {
   "display_name": "Python 3",
   "language": "python",
   "name": "python3"
  },
  "language_info": {
   "codemirror_mode": {
    "name": "ipython",
    "version": 2
   },
   "file_extension": ".py",
   "mimetype": "text/x-python",
   "name": "python",
   "nbconvert_exporter": "python",
   "pygments_lexer": "ipython2",
   "version": "2.7.6"
  }
 },
 "nbformat": 4,
 "nbformat_minor": 0
}